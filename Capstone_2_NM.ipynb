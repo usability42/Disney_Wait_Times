{
 "cells": [
  {
   "cell_type": "markdown",
   "id": "44955d87",
   "metadata": {},
   "source": [
    "# Problem Statement"
   ]
  },
  {
   "cell_type": "markdown",
   "id": "b5fd3239",
   "metadata": {},
   "source": [
    "COVID-19 threw the tourism, hospitality, and entertainment industries into a tailspin.  Not only did hotels, theme parks, and other venues close temporarily, but they were stuck with supplies of pre-ordered food and supplies that they couldn't use.\n",
    "\n",
    "With COVID restrictions easing - for better or for worse - tourism-based businesses must plan differently for a new, unpredictable world.  Cruise lines must determine whether or not people will hop aboard again or opt for other types of travel.  Likewise, they must plan for a micro-pandemic onboard, should the worst happen.  Indoor and outdoor entertainment venues must plan for food and beverages, including beer and other alcohol they serve.  Some items can be stored easily; other cannot.\n",
    "\n",
    "My proposal is twofold:  Using sentiment analysis of Twitter feeds, I hope to gauge cruisers' views on returning to cruising and international visitors' sentiment on visiting Orlando's theme parks.  I want to focus on international visitors, because they spend the most money at the parks, between resort stays, merchandise, and food.  Local passholders tend to eat outside the parks to save money and buy far less merchandise per visit.\n",
    "\n",
    "Using park capacity as a proxy, I can calculate park attendance, assuming that the parks are at their chosen maximum capacity.  Local news also covers when they're not.  Thus, general park attendance numbers are easy to estimate.  Some cruise information is available through the respective ports where they dock.  Likewise, summaries are available online that include the number of ships and passengers by cruise line.\n",
    "\n",
    "In addition to sentiment analysis, I want to conduct time series analysis on venue attendance and attempt to predict numbers or capacities for 2022."
   ]
  },
  {
   "cell_type": "markdown",
   "id": "a962cac9",
   "metadata": {},
   "source": [
    "# Risks"
   ]
  },
  {
   "cell_type": "markdown",
   "id": "71633929",
   "metadata": {},
   "source": [
    "I'm hoping to analyze both the Disney and Universal Parks, but Universal has fewer capacity limitations than Disney.  Even before the pandemic, Disney restricted park attendance more than Universal did.  Therefore, estimating park attendance for Universal might not be feasible, given that \"full capacity\" will only kick in if the fire department objects to the crowds.\n",
    "\n",
    "The biggest obstacle so far has been finding free data.  I'd prefer not to rely on percent capacity, be it for a theme park, resort, or ship, but currently that's what I have for that section of the analysis.\n",
    "\n",
    "Another potential option is supply chain analysis for merchandise, particularly clothing.  It appeared that there was data available, but when I clicked on the link, I received an error that the account was delinquent.\n",
    "\n"
   ]
  }
 ],
 "metadata": {
  "kernelspec": {
   "display_name": "Python 3 (ipykernel)",
   "language": "python",
   "name": "python3"
  },
  "language_info": {
   "codemirror_mode": {
    "name": "ipython",
    "version": 3
   },
   "file_extension": ".py",
   "mimetype": "text/x-python",
   "name": "python",
   "nbconvert_exporter": "python",
   "pygments_lexer": "ipython3",
   "version": "3.8.11"
  }
 },
 "nbformat": 4,
 "nbformat_minor": 5
}
