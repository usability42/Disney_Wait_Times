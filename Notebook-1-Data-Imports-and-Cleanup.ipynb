{
 "cells": [
  {
   "cell_type": "raw",
   "id": "faab27ff",
   "metadata": {},
   "source": [
    "Nadia W. Morgen - Capstone Project\n",
    "Notebook 1:  Data Imports & Cleanup"
   ]
  },
  {
   "cell_type": "code",
   "execution_count": 1,
   "id": "4597aa80",
   "metadata": {},
   "outputs": [],
   "source": [
    "import numpy as np\n",
    "import pandas as pd\n",
    "from datetime import datetime"
   ]
  },
  {
   "cell_type": "markdown",
   "id": "f6a327be",
   "metadata": {},
   "source": [
    "# Data Cleanup"
   ]
  },
  {
   "cell_type": "markdown",
   "id": "362b856c",
   "metadata": {},
   "source": [
    "## Na'vi River Journey"
   ]
  },
  {
   "cell_type": "code",
   "execution_count": 2,
   "id": "1eea4704",
   "metadata": {},
   "outputs": [],
   "source": [
    "# Navi River\n",
    "navi = pd.read_csv('data/navi_river.csv')"
   ]
  },
  {
   "cell_type": "code",
   "execution_count": 3,
   "id": "1102bcda",
   "metadata": {},
   "outputs": [
    {
     "data": {
      "text/html": [
       "<div>\n",
       "<style scoped>\n",
       "    .dataframe tbody tr th:only-of-type {\n",
       "        vertical-align: middle;\n",
       "    }\n",
       "\n",
       "    .dataframe tbody tr th {\n",
       "        vertical-align: top;\n",
       "    }\n",
       "\n",
       "    .dataframe thead th {\n",
       "        text-align: right;\n",
       "    }\n",
       "</style>\n",
       "<table border=\"1\" class=\"dataframe\">\n",
       "  <thead>\n",
       "    <tr style=\"text-align: right;\">\n",
       "      <th></th>\n",
       "      <th>date</th>\n",
       "      <th>datetime</th>\n",
       "      <th>SACTMIN</th>\n",
       "      <th>SPOSTMIN</th>\n",
       "    </tr>\n",
       "  </thead>\n",
       "  <tbody>\n",
       "    <tr>\n",
       "      <th>0</th>\n",
       "      <td>05/26/2017</td>\n",
       "      <td>2017-05-26 09:09:46</td>\n",
       "      <td>NaN</td>\n",
       "      <td>-999.0</td>\n",
       "    </tr>\n",
       "    <tr>\n",
       "      <th>1</th>\n",
       "      <td>05/26/2017</td>\n",
       "      <td>2017-05-26 09:10:12</td>\n",
       "      <td>NaN</td>\n",
       "      <td>5.0</td>\n",
       "    </tr>\n",
       "    <tr>\n",
       "      <th>2</th>\n",
       "      <td>05/26/2017</td>\n",
       "      <td>2017-05-26 09:17:09</td>\n",
       "      <td>NaN</td>\n",
       "      <td>45.0</td>\n",
       "    </tr>\n",
       "    <tr>\n",
       "      <th>3</th>\n",
       "      <td>05/26/2017</td>\n",
       "      <td>2017-05-26 09:24:07</td>\n",
       "      <td>NaN</td>\n",
       "      <td>45.0</td>\n",
       "    </tr>\n",
       "    <tr>\n",
       "      <th>4</th>\n",
       "      <td>05/26/2017</td>\n",
       "      <td>2017-05-26 09:30:10</td>\n",
       "      <td>NaN</td>\n",
       "      <td>45.0</td>\n",
       "    </tr>\n",
       "  </tbody>\n",
       "</table>\n",
       "</div>"
      ],
      "text/plain": [
       "         date             datetime  SACTMIN  SPOSTMIN\n",
       "0  05/26/2017  2017-05-26 09:09:46      NaN    -999.0\n",
       "1  05/26/2017  2017-05-26 09:10:12      NaN       5.0\n",
       "2  05/26/2017  2017-05-26 09:17:09      NaN      45.0\n",
       "3  05/26/2017  2017-05-26 09:24:07      NaN      45.0\n",
       "4  05/26/2017  2017-05-26 09:30:10      NaN      45.0"
      ]
     },
     "execution_count": 3,
     "metadata": {},
     "output_type": "execute_result"
    }
   ],
   "source": [
    "navi.head()"
   ]
  },
  {
   "cell_type": "code",
   "execution_count": 4,
   "id": "7ad6357c",
   "metadata": {},
   "outputs": [
    {
     "data": {
      "text/plain": [
       "date         object\n",
       "datetime     object\n",
       "SACTMIN     float64\n",
       "SPOSTMIN    float64\n",
       "dtype: object"
      ]
     },
     "execution_count": 4,
     "metadata": {},
     "output_type": "execute_result"
    }
   ],
   "source": [
    "navi.dtypes"
   ]
  },
  {
   "cell_type": "code",
   "execution_count": 5,
   "id": "48f8ab27",
   "metadata": {},
   "outputs": [],
   "source": [
    "# Convert data and datetime to datetime type (not object)\n",
    "\n",
    "navi['date'] = pd.to_datetime(navi['date'])\n",
    "navi['datetime'] = pd.to_datetime(navi['datetime'])"
   ]
  },
  {
   "cell_type": "code",
   "execution_count": 6,
   "id": "9c945911",
   "metadata": {},
   "outputs": [],
   "source": [
    "# Add column for day of the week\n",
    "navi['weekday'] = navi['date'].dt.dayofweek\n",
    "\n",
    "# Adjust index so Monday == 1\n",
    "navi['weekday'] = navi['weekday'] + 1\n",
    "\n",
    "navi['day_name'] = navi['date'].dt.day_name()"
   ]
  },
  {
   "cell_type": "code",
   "execution_count": 7,
   "id": "65a39ad3",
   "metadata": {},
   "outputs": [],
   "source": [
    "#navi['day_name'] = navi.day_name.astype('string')"
   ]
  },
  {
   "cell_type": "code",
   "execution_count": 8,
   "id": "0ab0d6b4",
   "metadata": {},
   "outputs": [
    {
     "data": {
      "text/html": [
       "<div>\n",
       "<style scoped>\n",
       "    .dataframe tbody tr th:only-of-type {\n",
       "        vertical-align: middle;\n",
       "    }\n",
       "\n",
       "    .dataframe tbody tr th {\n",
       "        vertical-align: top;\n",
       "    }\n",
       "\n",
       "    .dataframe thead th {\n",
       "        text-align: right;\n",
       "    }\n",
       "</style>\n",
       "<table border=\"1\" class=\"dataframe\">\n",
       "  <thead>\n",
       "    <tr style=\"text-align: right;\">\n",
       "      <th></th>\n",
       "      <th>date</th>\n",
       "      <th>datetime</th>\n",
       "      <th>SACTMIN</th>\n",
       "      <th>SPOSTMIN</th>\n",
       "      <th>weekday</th>\n",
       "      <th>day_name</th>\n",
       "    </tr>\n",
       "  </thead>\n",
       "  <tbody>\n",
       "    <tr>\n",
       "      <th>0</th>\n",
       "      <td>2017-05-26</td>\n",
       "      <td>2017-05-26 09:09:46</td>\n",
       "      <td>NaN</td>\n",
       "      <td>-999.0</td>\n",
       "      <td>5</td>\n",
       "      <td>Friday</td>\n",
       "    </tr>\n",
       "    <tr>\n",
       "      <th>1</th>\n",
       "      <td>2017-05-26</td>\n",
       "      <td>2017-05-26 09:10:12</td>\n",
       "      <td>NaN</td>\n",
       "      <td>5.0</td>\n",
       "      <td>5</td>\n",
       "      <td>Friday</td>\n",
       "    </tr>\n",
       "    <tr>\n",
       "      <th>2</th>\n",
       "      <td>2017-05-26</td>\n",
       "      <td>2017-05-26 09:17:09</td>\n",
       "      <td>NaN</td>\n",
       "      <td>45.0</td>\n",
       "      <td>5</td>\n",
       "      <td>Friday</td>\n",
       "    </tr>\n",
       "    <tr>\n",
       "      <th>3</th>\n",
       "      <td>2017-05-26</td>\n",
       "      <td>2017-05-26 09:24:07</td>\n",
       "      <td>NaN</td>\n",
       "      <td>45.0</td>\n",
       "      <td>5</td>\n",
       "      <td>Friday</td>\n",
       "    </tr>\n",
       "    <tr>\n",
       "      <th>4</th>\n",
       "      <td>2017-05-26</td>\n",
       "      <td>2017-05-26 09:30:10</td>\n",
       "      <td>NaN</td>\n",
       "      <td>45.0</td>\n",
       "      <td>5</td>\n",
       "      <td>Friday</td>\n",
       "    </tr>\n",
       "  </tbody>\n",
       "</table>\n",
       "</div>"
      ],
      "text/plain": [
       "        date            datetime  SACTMIN  SPOSTMIN  weekday day_name\n",
       "0 2017-05-26 2017-05-26 09:09:46      NaN    -999.0        5   Friday\n",
       "1 2017-05-26 2017-05-26 09:10:12      NaN       5.0        5   Friday\n",
       "2 2017-05-26 2017-05-26 09:17:09      NaN      45.0        5   Friday\n",
       "3 2017-05-26 2017-05-26 09:24:07      NaN      45.0        5   Friday\n",
       "4 2017-05-26 2017-05-26 09:30:10      NaN      45.0        5   Friday"
      ]
     },
     "execution_count": 8,
     "metadata": {},
     "output_type": "execute_result"
    }
   ],
   "source": [
    "navi.head()"
   ]
  },
  {
   "cell_type": "code",
   "execution_count": 9,
   "id": "93b6e98d",
   "metadata": {},
   "outputs": [
    {
     "data": {
      "text/plain": [
       "date        datetime64[ns]\n",
       "datetime    datetime64[ns]\n",
       "SACTMIN            float64\n",
       "SPOSTMIN           float64\n",
       "weekday              int64\n",
       "day_name            object\n",
       "dtype: object"
      ]
     },
     "execution_count": 9,
     "metadata": {},
     "output_type": "execute_result"
    }
   ],
   "source": [
    "navi.dtypes"
   ]
  },
  {
   "cell_type": "code",
   "execution_count": 10,
   "id": "3fae6d86",
   "metadata": {},
   "outputs": [],
   "source": [
    "# Copy dataset before eliminating missing values\n",
    "navi_orig = navi.copy()"
   ]
  },
  {
   "cell_type": "code",
   "execution_count": 13,
   "id": "5b7aafac",
   "metadata": {},
   "outputs": [],
   "source": [
    "# posted = SPOSTMIN = posted wait times in minutes\n",
    "navi_posted = navi.dropna(how='any', subset=['SPOSTMIN'])\n",
    "navi_posted = navi_posted[navi_posted.SPOSTMIN != -999]"
   ]
  },
  {
   "cell_type": "code",
   "execution_count": 14,
   "id": "ece6bfda",
   "metadata": {},
   "outputs": [
    {
     "data": {
      "text/plain": [
       "(169980, 6)"
      ]
     },
     "execution_count": 14,
     "metadata": {},
     "output_type": "execute_result"
    }
   ],
   "source": [
    "navi_posted.shape"
   ]
  },
  {
   "cell_type": "code",
   "execution_count": 15,
   "id": "99eb7374",
   "metadata": {},
   "outputs": [],
   "source": [
    "# Set Date to index for DAILY analysis\n",
    "navi_posted.set_index('date', inplace = True)"
   ]
  },
  {
   "cell_type": "code",
   "execution_count": 16,
   "id": "60dea7a2",
   "metadata": {},
   "outputs": [
    {
     "data": {
      "text/html": [
       "<div>\n",
       "<style scoped>\n",
       "    .dataframe tbody tr th:only-of-type {\n",
       "        vertical-align: middle;\n",
       "    }\n",
       "\n",
       "    .dataframe tbody tr th {\n",
       "        vertical-align: top;\n",
       "    }\n",
       "\n",
       "    .dataframe thead th {\n",
       "        text-align: right;\n",
       "    }\n",
       "</style>\n",
       "<table border=\"1\" class=\"dataframe\">\n",
       "  <thead>\n",
       "    <tr style=\"text-align: right;\">\n",
       "      <th></th>\n",
       "      <th>datetime</th>\n",
       "      <th>SACTMIN</th>\n",
       "      <th>SPOSTMIN</th>\n",
       "      <th>weekday</th>\n",
       "      <th>day_name</th>\n",
       "    </tr>\n",
       "    <tr>\n",
       "      <th>date</th>\n",
       "      <th></th>\n",
       "      <th></th>\n",
       "      <th></th>\n",
       "      <th></th>\n",
       "      <th></th>\n",
       "    </tr>\n",
       "  </thead>\n",
       "  <tbody>\n",
       "    <tr>\n",
       "      <th>2017-05-26</th>\n",
       "      <td>2017-05-26 09:10:12</td>\n",
       "      <td>NaN</td>\n",
       "      <td>5.0</td>\n",
       "      <td>5</td>\n",
       "      <td>Friday</td>\n",
       "    </tr>\n",
       "    <tr>\n",
       "      <th>2017-05-26</th>\n",
       "      <td>2017-05-26 09:17:09</td>\n",
       "      <td>NaN</td>\n",
       "      <td>45.0</td>\n",
       "      <td>5</td>\n",
       "      <td>Friday</td>\n",
       "    </tr>\n",
       "  </tbody>\n",
       "</table>\n",
       "</div>"
      ],
      "text/plain": [
       "                      datetime  SACTMIN  SPOSTMIN  weekday day_name\n",
       "date                                                               \n",
       "2017-05-26 2017-05-26 09:10:12      NaN       5.0        5   Friday\n",
       "2017-05-26 2017-05-26 09:17:09      NaN      45.0        5   Friday"
      ]
     },
     "execution_count": 16,
     "metadata": {},
     "output_type": "execute_result"
    }
   ],
   "source": [
    "navi_posted.head(2)"
   ]
  },
  {
   "cell_type": "markdown",
   "id": "592df964",
   "metadata": {},
   "source": [
    "## Flight of Passage"
   ]
  },
  {
   "cell_type": "code",
   "execution_count": 19,
   "id": "f6f86200",
   "metadata": {},
   "outputs": [],
   "source": [
    "# Flight of Passage\n",
    "flight = pd.read_csv('data/flight_of_passage.csv')"
   ]
  },
  {
   "cell_type": "code",
   "execution_count": 20,
   "id": "b73e529e",
   "metadata": {},
   "outputs": [],
   "source": [
    "# Convert data and datetime to datetime type (not object)\n",
    "\n",
    "flight['date'] = pd.to_datetime(flight['date'])\n",
    "flight['datetime'] = pd.to_datetime(flight['datetime'])"
   ]
  },
  {
   "cell_type": "code",
   "execution_count": 21,
   "id": "a4c3d598",
   "metadata": {},
   "outputs": [],
   "source": [
    "# Add column for day of the week\n",
    "flight['weekday'] = flight['date'].dt.dayofweek\n",
    "\n",
    "# Adjust index so Monday == 1\n",
    "flight['weekday'] = flight['weekday'] + 1\n",
    "\n",
    "flight['day_name'] = flight['date'].dt.day_name()"
   ]
  },
  {
   "cell_type": "code",
   "execution_count": 22,
   "id": "39bc9bcf",
   "metadata": {},
   "outputs": [],
   "source": [
    "#flight['day_name'] = flight.day_name.astype('string')"
   ]
  },
  {
   "cell_type": "code",
   "execution_count": 23,
   "id": "da82d0ec",
   "metadata": {},
   "outputs": [
    {
     "data": {
      "text/plain": [
       "date        datetime64[ns]\n",
       "datetime    datetime64[ns]\n",
       "SACTMIN            float64\n",
       "SPOSTMIN           float64\n",
       "weekday              int64\n",
       "day_name            object\n",
       "dtype: object"
      ]
     },
     "execution_count": 23,
     "metadata": {},
     "output_type": "execute_result"
    }
   ],
   "source": [
    "flight.dtypes"
   ]
  },
  {
   "cell_type": "code",
   "execution_count": 28,
   "id": "cf4131dc",
   "metadata": {},
   "outputs": [],
   "source": [
    "flight_posted = flight.dropna(how='any', subset=['SPOSTMIN'])\n",
    "flight_posted = flight_posted[flight_posted.SPOSTMIN != -999]"
   ]
  },
  {
   "cell_type": "code",
   "execution_count": 29,
   "id": "52bacc9e",
   "metadata": {},
   "outputs": [
    {
     "data": {
      "text/plain": [
       "(173527, 6)"
      ]
     },
     "execution_count": 29,
     "metadata": {},
     "output_type": "execute_result"
    }
   ],
   "source": [
    "flight_posted.shape"
   ]
  },
  {
   "cell_type": "code",
   "execution_count": 30,
   "id": "504e4dc9",
   "metadata": {},
   "outputs": [
    {
     "data": {
      "text/html": [
       "<div>\n",
       "<style scoped>\n",
       "    .dataframe tbody tr th:only-of-type {\n",
       "        vertical-align: middle;\n",
       "    }\n",
       "\n",
       "    .dataframe tbody tr th {\n",
       "        vertical-align: top;\n",
       "    }\n",
       "\n",
       "    .dataframe thead th {\n",
       "        text-align: right;\n",
       "    }\n",
       "</style>\n",
       "<table border=\"1\" class=\"dataframe\">\n",
       "  <thead>\n",
       "    <tr style=\"text-align: right;\">\n",
       "      <th></th>\n",
       "      <th>date</th>\n",
       "      <th>datetime</th>\n",
       "      <th>SACTMIN</th>\n",
       "      <th>SPOSTMIN</th>\n",
       "      <th>weekday</th>\n",
       "      <th>day_name</th>\n",
       "    </tr>\n",
       "  </thead>\n",
       "  <tbody>\n",
       "    <tr>\n",
       "      <th>2</th>\n",
       "      <td>2017-05-26</td>\n",
       "      <td>2017-05-26 09:10:12</td>\n",
       "      <td>NaN</td>\n",
       "      <td>5.0</td>\n",
       "      <td>5</td>\n",
       "      <td>Friday</td>\n",
       "    </tr>\n",
       "    <tr>\n",
       "      <th>3</th>\n",
       "      <td>2017-05-26</td>\n",
       "      <td>2017-05-26 09:17:09</td>\n",
       "      <td>NaN</td>\n",
       "      <td>60.0</td>\n",
       "      <td>5</td>\n",
       "      <td>Friday</td>\n",
       "    </tr>\n",
       "    <tr>\n",
       "      <th>4</th>\n",
       "      <td>2017-05-26</td>\n",
       "      <td>2017-05-26 09:24:07</td>\n",
       "      <td>NaN</td>\n",
       "      <td>60.0</td>\n",
       "      <td>5</td>\n",
       "      <td>Friday</td>\n",
       "    </tr>\n",
       "    <tr>\n",
       "      <th>5</th>\n",
       "      <td>2017-05-26</td>\n",
       "      <td>2017-05-26 09:30:10</td>\n",
       "      <td>NaN</td>\n",
       "      <td>60.0</td>\n",
       "      <td>5</td>\n",
       "      <td>Friday</td>\n",
       "    </tr>\n",
       "    <tr>\n",
       "      <th>6</th>\n",
       "      <td>2017-05-26</td>\n",
       "      <td>2017-05-26 09:38:10</td>\n",
       "      <td>NaN</td>\n",
       "      <td>45.0</td>\n",
       "      <td>5</td>\n",
       "      <td>Friday</td>\n",
       "    </tr>\n",
       "  </tbody>\n",
       "</table>\n",
       "</div>"
      ],
      "text/plain": [
       "        date            datetime  SACTMIN  SPOSTMIN  weekday day_name\n",
       "2 2017-05-26 2017-05-26 09:10:12      NaN       5.0        5   Friday\n",
       "3 2017-05-26 2017-05-26 09:17:09      NaN      60.0        5   Friday\n",
       "4 2017-05-26 2017-05-26 09:24:07      NaN      60.0        5   Friday\n",
       "5 2017-05-26 2017-05-26 09:30:10      NaN      60.0        5   Friday\n",
       "6 2017-05-26 2017-05-26 09:38:10      NaN      45.0        5   Friday"
      ]
     },
     "execution_count": 30,
     "metadata": {},
     "output_type": "execute_result"
    }
   ],
   "source": [
    "flight_posted.head()"
   ]
  },
  {
   "cell_type": "code",
   "execution_count": 31,
   "id": "33fc3d6a",
   "metadata": {},
   "outputs": [],
   "source": [
    "# Set Date to index for DAILY analysis\n",
    "flight_posted.set_index('date', inplace = True)"
   ]
  },
  {
   "cell_type": "markdown",
   "id": "7a4b58ea",
   "metadata": {},
   "source": [
    "## Kilimanjaro Safaris"
   ]
  },
  {
   "cell_type": "code",
   "execution_count": 32,
   "id": "0c96a30e",
   "metadata": {},
   "outputs": [],
   "source": [
    "# Kilimanjaro Safaris\n",
    "safari = pd.read_csv('data/kilimanjaro_safaris.csv')"
   ]
  },
  {
   "cell_type": "code",
   "execution_count": 37,
   "id": "b40bb307",
   "metadata": {},
   "outputs": [],
   "source": [
    "safari_posted = safari.dropna(how='any', subset=['SPOSTMIN'])\n",
    "safari_posted = safari_posted[safari_posted.SPOSTMIN != -999]"
   ]
  },
  {
   "cell_type": "code",
   "execution_count": 38,
   "id": "842b47fd",
   "metadata": {},
   "outputs": [
    {
     "data": {
      "text/plain": [
       "(257785, 4)"
      ]
     },
     "execution_count": 38,
     "metadata": {},
     "output_type": "execute_result"
    }
   ],
   "source": [
    "safari.shape"
   ]
  },
  {
   "cell_type": "code",
   "execution_count": 39,
   "id": "e03ba5fe",
   "metadata": {},
   "outputs": [
    {
     "data": {
      "text/html": [
       "<div>\n",
       "<style scoped>\n",
       "    .dataframe tbody tr th:only-of-type {\n",
       "        vertical-align: middle;\n",
       "    }\n",
       "\n",
       "    .dataframe tbody tr th {\n",
       "        vertical-align: top;\n",
       "    }\n",
       "\n",
       "    .dataframe thead th {\n",
       "        text-align: right;\n",
       "    }\n",
       "</style>\n",
       "<table border=\"1\" class=\"dataframe\">\n",
       "  <thead>\n",
       "    <tr style=\"text-align: right;\">\n",
       "      <th></th>\n",
       "      <th>date</th>\n",
       "      <th>datetime</th>\n",
       "      <th>SACTMIN</th>\n",
       "      <th>SPOSTMIN</th>\n",
       "    </tr>\n",
       "  </thead>\n",
       "  <tbody>\n",
       "    <tr>\n",
       "      <th>0</th>\n",
       "      <td>01/01/2015</td>\n",
       "      <td>2015-01-01 07:47:26</td>\n",
       "      <td>NaN</td>\n",
       "      <td>5.0</td>\n",
       "    </tr>\n",
       "    <tr>\n",
       "      <th>1</th>\n",
       "      <td>01/01/2015</td>\n",
       "      <td>2015-01-01 07:54:23</td>\n",
       "      <td>NaN</td>\n",
       "      <td>5.0</td>\n",
       "    </tr>\n",
       "    <tr>\n",
       "      <th>2</th>\n",
       "      <td>01/01/2015</td>\n",
       "      <td>2015-01-01 08:05:33</td>\n",
       "      <td>NaN</td>\n",
       "      <td>5.0</td>\n",
       "    </tr>\n",
       "    <tr>\n",
       "      <th>3</th>\n",
       "      <td>01/01/2015</td>\n",
       "      <td>2015-01-01 08:12:23</td>\n",
       "      <td>NaN</td>\n",
       "      <td>10.0</td>\n",
       "    </tr>\n",
       "    <tr>\n",
       "      <th>4</th>\n",
       "      <td>01/01/2015</td>\n",
       "      <td>2015-01-01 08:19:26</td>\n",
       "      <td>NaN</td>\n",
       "      <td>10.0</td>\n",
       "    </tr>\n",
       "  </tbody>\n",
       "</table>\n",
       "</div>"
      ],
      "text/plain": [
       "         date             datetime  SACTMIN  SPOSTMIN\n",
       "0  01/01/2015  2015-01-01 07:47:26      NaN       5.0\n",
       "1  01/01/2015  2015-01-01 07:54:23      NaN       5.0\n",
       "2  01/01/2015  2015-01-01 08:05:33      NaN       5.0\n",
       "3  01/01/2015  2015-01-01 08:12:23      NaN      10.0\n",
       "4  01/01/2015  2015-01-01 08:19:26      NaN      10.0"
      ]
     },
     "execution_count": 39,
     "metadata": {},
     "output_type": "execute_result"
    }
   ],
   "source": [
    "safari.head()"
   ]
  },
  {
   "cell_type": "code",
   "execution_count": 40,
   "id": "6caf5818",
   "metadata": {},
   "outputs": [
    {
     "data": {
      "text/plain": [
       "date         object\n",
       "datetime     object\n",
       "SACTMIN     float64\n",
       "SPOSTMIN    float64\n",
       "dtype: object"
      ]
     },
     "execution_count": 40,
     "metadata": {},
     "output_type": "execute_result"
    }
   ],
   "source": [
    "safari.dtypes"
   ]
  },
  {
   "cell_type": "code",
   "execution_count": 41,
   "id": "e923f7de",
   "metadata": {},
   "outputs": [
    {
     "data": {
      "text/html": [
       "<div>\n",
       "<style scoped>\n",
       "    .dataframe tbody tr th:only-of-type {\n",
       "        vertical-align: middle;\n",
       "    }\n",
       "\n",
       "    .dataframe tbody tr th {\n",
       "        vertical-align: top;\n",
       "    }\n",
       "\n",
       "    .dataframe thead th {\n",
       "        text-align: right;\n",
       "    }\n",
       "</style>\n",
       "<table border=\"1\" class=\"dataframe\">\n",
       "  <thead>\n",
       "    <tr style=\"text-align: right;\">\n",
       "      <th></th>\n",
       "      <th>date</th>\n",
       "      <th>datetime</th>\n",
       "      <th>SACTMIN</th>\n",
       "      <th>SPOSTMIN</th>\n",
       "    </tr>\n",
       "  </thead>\n",
       "  <tbody>\n",
       "    <tr>\n",
       "      <th>0</th>\n",
       "      <td>01/01/2015</td>\n",
       "      <td>2015-01-01 07:47:26</td>\n",
       "      <td>NaN</td>\n",
       "      <td>5.0</td>\n",
       "    </tr>\n",
       "    <tr>\n",
       "      <th>1</th>\n",
       "      <td>01/01/2015</td>\n",
       "      <td>2015-01-01 07:54:23</td>\n",
       "      <td>NaN</td>\n",
       "      <td>5.0</td>\n",
       "    </tr>\n",
       "    <tr>\n",
       "      <th>2</th>\n",
       "      <td>01/01/2015</td>\n",
       "      <td>2015-01-01 08:05:33</td>\n",
       "      <td>NaN</td>\n",
       "      <td>5.0</td>\n",
       "    </tr>\n",
       "    <tr>\n",
       "      <th>3</th>\n",
       "      <td>01/01/2015</td>\n",
       "      <td>2015-01-01 08:12:23</td>\n",
       "      <td>NaN</td>\n",
       "      <td>10.0</td>\n",
       "    </tr>\n",
       "    <tr>\n",
       "      <th>4</th>\n",
       "      <td>01/01/2015</td>\n",
       "      <td>2015-01-01 08:19:26</td>\n",
       "      <td>NaN</td>\n",
       "      <td>10.0</td>\n",
       "    </tr>\n",
       "  </tbody>\n",
       "</table>\n",
       "</div>"
      ],
      "text/plain": [
       "         date             datetime  SACTMIN  SPOSTMIN\n",
       "0  01/01/2015  2015-01-01 07:47:26      NaN       5.0\n",
       "1  01/01/2015  2015-01-01 07:54:23      NaN       5.0\n",
       "2  01/01/2015  2015-01-01 08:05:33      NaN       5.0\n",
       "3  01/01/2015  2015-01-01 08:12:23      NaN      10.0\n",
       "4  01/01/2015  2015-01-01 08:19:26      NaN      10.0"
      ]
     },
     "execution_count": 41,
     "metadata": {},
     "output_type": "execute_result"
    }
   ],
   "source": [
    "safari_posted.head()"
   ]
  },
  {
   "cell_type": "code",
   "execution_count": 42,
   "id": "52bf603e",
   "metadata": {},
   "outputs": [],
   "source": [
    "# Convert data and datetime to datetime type (not object)\n",
    "\n",
    "safari_posted['date'] = pd.to_datetime(safari['date'])\n",
    "safari_posted['datetime'] = pd.to_datetime(safari['datetime'])"
   ]
  },
  {
   "cell_type": "code",
   "execution_count": 43,
   "id": "ed6a5e9c",
   "metadata": {},
   "outputs": [],
   "source": [
    "# Add column for day of the week\n",
    "safari_posted['weekday'] = safari_posted['date'].dt.dayofweek\n",
    "\n",
    "# Adjust index so Monday == 1\n",
    "safari_posted['weekday'] = safari_posted['weekday'] + 1\n",
    "\n",
    "safari_posted['day_name'] = safari_posted['date'].dt.day_name()"
   ]
  },
  {
   "cell_type": "code",
   "execution_count": 44,
   "id": "5230a2bc",
   "metadata": {},
   "outputs": [],
   "source": [
    "safari_posted.set_index('date', inplace = True)"
   ]
  },
  {
   "cell_type": "code",
   "execution_count": null,
   "id": "acdaa8c6",
   "metadata": {},
   "outputs": [],
   "source": []
  },
  {
   "cell_type": "markdown",
   "id": "ae444660",
   "metadata": {},
   "source": [
    "## Expedition Everest"
   ]
  },
  {
   "cell_type": "code",
   "execution_count": 45,
   "id": "b715a5d0",
   "metadata": {},
   "outputs": [],
   "source": [
    "everest = pd.read_csv('data/expedition_everest.csv')"
   ]
  },
  {
   "cell_type": "code",
   "execution_count": 48,
   "id": "39927522",
   "metadata": {},
   "outputs": [],
   "source": [
    "everest_posted = everest.dropna(how='any', subset=['SPOSTMIN'])\n",
    "everest_posted = everest_posted[everest_posted.SPOSTMIN != -999]"
   ]
  },
  {
   "cell_type": "code",
   "execution_count": 49,
   "id": "a425a7ef",
   "metadata": {},
   "outputs": [
    {
     "data": {
      "text/plain": [
       "(246429, 4)"
      ]
     },
     "execution_count": 49,
     "metadata": {},
     "output_type": "execute_result"
    }
   ],
   "source": [
    "everest_posted.shape"
   ]
  },
  {
   "cell_type": "code",
   "execution_count": 53,
   "id": "94610d07",
   "metadata": {},
   "outputs": [
    {
     "data": {
      "text/html": [
       "<div>\n",
       "<style scoped>\n",
       "    .dataframe tbody tr th:only-of-type {\n",
       "        vertical-align: middle;\n",
       "    }\n",
       "\n",
       "    .dataframe tbody tr th {\n",
       "        vertical-align: top;\n",
       "    }\n",
       "\n",
       "    .dataframe thead th {\n",
       "        text-align: right;\n",
       "    }\n",
       "</style>\n",
       "<table border=\"1\" class=\"dataframe\">\n",
       "  <thead>\n",
       "    <tr style=\"text-align: right;\">\n",
       "      <th></th>\n",
       "      <th>date</th>\n",
       "      <th>datetime</th>\n",
       "      <th>SACTMIN</th>\n",
       "      <th>SPOSTMIN</th>\n",
       "    </tr>\n",
       "  </thead>\n",
       "  <tbody>\n",
       "    <tr>\n",
       "      <th>0</th>\n",
       "      <td>01/01/2015</td>\n",
       "      <td>2015-01-01 07:47:26</td>\n",
       "      <td>NaN</td>\n",
       "      <td>5.0</td>\n",
       "    </tr>\n",
       "    <tr>\n",
       "      <th>1</th>\n",
       "      <td>01/01/2015</td>\n",
       "      <td>2015-01-01 07:54:23</td>\n",
       "      <td>NaN</td>\n",
       "      <td>5.0</td>\n",
       "    </tr>\n",
       "    <tr>\n",
       "      <th>2</th>\n",
       "      <td>01/01/2015</td>\n",
       "      <td>2015-01-01 08:05:33</td>\n",
       "      <td>NaN</td>\n",
       "      <td>5.0</td>\n",
       "    </tr>\n",
       "    <tr>\n",
       "      <th>3</th>\n",
       "      <td>01/01/2015</td>\n",
       "      <td>2015-01-01 08:12:23</td>\n",
       "      <td>NaN</td>\n",
       "      <td>5.0</td>\n",
       "    </tr>\n",
       "    <tr>\n",
       "      <th>4</th>\n",
       "      <td>01/01/2015</td>\n",
       "      <td>2015-01-01 08:19:26</td>\n",
       "      <td>NaN</td>\n",
       "      <td>5.0</td>\n",
       "    </tr>\n",
       "  </tbody>\n",
       "</table>\n",
       "</div>"
      ],
      "text/plain": [
       "         date             datetime  SACTMIN  SPOSTMIN\n",
       "0  01/01/2015  2015-01-01 07:47:26      NaN       5.0\n",
       "1  01/01/2015  2015-01-01 07:54:23      NaN       5.0\n",
       "2  01/01/2015  2015-01-01 08:05:33      NaN       5.0\n",
       "3  01/01/2015  2015-01-01 08:12:23      NaN       5.0\n",
       "4  01/01/2015  2015-01-01 08:19:26      NaN       5.0"
      ]
     },
     "execution_count": 53,
     "metadata": {},
     "output_type": "execute_result"
    }
   ],
   "source": [
    "everest.head()"
   ]
  },
  {
   "cell_type": "code",
   "execution_count": 54,
   "id": "462dda4a",
   "metadata": {},
   "outputs": [
    {
     "data": {
      "text/plain": [
       "date         object\n",
       "datetime     object\n",
       "SACTMIN     float64\n",
       "SPOSTMIN    float64\n",
       "dtype: object"
      ]
     },
     "execution_count": 54,
     "metadata": {},
     "output_type": "execute_result"
    }
   ],
   "source": [
    "everest_posted.dtypes"
   ]
  },
  {
   "cell_type": "code",
   "execution_count": 55,
   "id": "05253fa5",
   "metadata": {},
   "outputs": [],
   "source": [
    "# Convert data and datetime to datetime type (not object)\n",
    "\n",
    "everest_posted['date'] = pd.to_datetime(everest_posted['date'])\n",
    "everest_posted['datetime'] = pd.to_datetime(everest_posted['datetime'])"
   ]
  },
  {
   "cell_type": "code",
   "execution_count": 56,
   "id": "1faf75db",
   "metadata": {},
   "outputs": [],
   "source": [
    "# Add column for day of the week\n",
    "everest_posted['weekday'] = everest_posted['date'].dt.dayofweek\n",
    "\n",
    "# Adjust index so Monday == 1\n",
    "everest_posted['weekday'] = everest_posted['weekday'] + 1\n",
    "\n",
    "everest_posted['day_name'] = everest_posted['date'].dt.day_name()"
   ]
  },
  {
   "cell_type": "code",
   "execution_count": 57,
   "id": "344377e3",
   "metadata": {},
   "outputs": [
    {
     "data": {
      "text/html": [
       "<div>\n",
       "<style scoped>\n",
       "    .dataframe tbody tr th:only-of-type {\n",
       "        vertical-align: middle;\n",
       "    }\n",
       "\n",
       "    .dataframe tbody tr th {\n",
       "        vertical-align: top;\n",
       "    }\n",
       "\n",
       "    .dataframe thead th {\n",
       "        text-align: right;\n",
       "    }\n",
       "</style>\n",
       "<table border=\"1\" class=\"dataframe\">\n",
       "  <thead>\n",
       "    <tr style=\"text-align: right;\">\n",
       "      <th></th>\n",
       "      <th>date</th>\n",
       "      <th>datetime</th>\n",
       "      <th>SACTMIN</th>\n",
       "      <th>SPOSTMIN</th>\n",
       "      <th>weekday</th>\n",
       "      <th>day_name</th>\n",
       "    </tr>\n",
       "  </thead>\n",
       "  <tbody>\n",
       "    <tr>\n",
       "      <th>0</th>\n",
       "      <td>2015-01-01</td>\n",
       "      <td>2015-01-01 07:47:26</td>\n",
       "      <td>NaN</td>\n",
       "      <td>5.0</td>\n",
       "      <td>4</td>\n",
       "      <td>Thursday</td>\n",
       "    </tr>\n",
       "    <tr>\n",
       "      <th>1</th>\n",
       "      <td>2015-01-01</td>\n",
       "      <td>2015-01-01 07:54:23</td>\n",
       "      <td>NaN</td>\n",
       "      <td>5.0</td>\n",
       "      <td>4</td>\n",
       "      <td>Thursday</td>\n",
       "    </tr>\n",
       "    <tr>\n",
       "      <th>2</th>\n",
       "      <td>2015-01-01</td>\n",
       "      <td>2015-01-01 08:05:33</td>\n",
       "      <td>NaN</td>\n",
       "      <td>5.0</td>\n",
       "      <td>4</td>\n",
       "      <td>Thursday</td>\n",
       "    </tr>\n",
       "    <tr>\n",
       "      <th>3</th>\n",
       "      <td>2015-01-01</td>\n",
       "      <td>2015-01-01 08:12:23</td>\n",
       "      <td>NaN</td>\n",
       "      <td>5.0</td>\n",
       "      <td>4</td>\n",
       "      <td>Thursday</td>\n",
       "    </tr>\n",
       "    <tr>\n",
       "      <th>4</th>\n",
       "      <td>2015-01-01</td>\n",
       "      <td>2015-01-01 08:19:26</td>\n",
       "      <td>NaN</td>\n",
       "      <td>5.0</td>\n",
       "      <td>4</td>\n",
       "      <td>Thursday</td>\n",
       "    </tr>\n",
       "  </tbody>\n",
       "</table>\n",
       "</div>"
      ],
      "text/plain": [
       "        date            datetime  SACTMIN  SPOSTMIN  weekday  day_name\n",
       "0 2015-01-01 2015-01-01 07:47:26      NaN       5.0        4  Thursday\n",
       "1 2015-01-01 2015-01-01 07:54:23      NaN       5.0        4  Thursday\n",
       "2 2015-01-01 2015-01-01 08:05:33      NaN       5.0        4  Thursday\n",
       "3 2015-01-01 2015-01-01 08:12:23      NaN       5.0        4  Thursday\n",
       "4 2015-01-01 2015-01-01 08:19:26      NaN       5.0        4  Thursday"
      ]
     },
     "execution_count": 57,
     "metadata": {},
     "output_type": "execute_result"
    }
   ],
   "source": [
    "everest_posted.head()"
   ]
  },
  {
   "cell_type": "code",
   "execution_count": 58,
   "id": "822e267d",
   "metadata": {},
   "outputs": [],
   "source": [
    "everest_posted.set_index('date', inplace = True)"
   ]
  },
  {
   "cell_type": "code",
   "execution_count": 59,
   "id": "1d053e9b",
   "metadata": {},
   "outputs": [
    {
     "data": {
      "text/plain": [
       "datetime    datetime64[ns]\n",
       "SACTMIN            float64\n",
       "SPOSTMIN           float64\n",
       "weekday              int64\n",
       "day_name            object\n",
       "dtype: object"
      ]
     },
     "execution_count": 59,
     "metadata": {},
     "output_type": "execute_result"
    }
   ],
   "source": [
    "everest_posted.dtypes"
   ]
  },
  {
   "cell_type": "code",
   "execution_count": 60,
   "id": "1900b679",
   "metadata": {},
   "outputs": [],
   "source": [
    "navi_posted.to_csv('data/navi_posted.csv', index=True)\n",
    "flight_posted.to_csv('data/flight_posted.csv', index=True)\n",
    "safari_posted.to_csv('data/safari_posted.csv', index=True)\n",
    "everest_posted.to_csv('data/everest_posted.csv', index=True)"
   ]
  },
  {
   "cell_type": "markdown",
   "id": "da43fa98",
   "metadata": {},
   "source": [
    "Next Notebook: Notebook 2: Navi River Journey EDA & Modeling"
   ]
  }
 ],
 "metadata": {
  "kernelspec": {
   "display_name": "Python 3 (ipykernel)",
   "language": "python",
   "name": "python3"
  },
  "language_info": {
   "codemirror_mode": {
    "name": "ipython",
    "version": 3
   },
   "file_extension": ".py",
   "mimetype": "text/x-python",
   "name": "python",
   "nbconvert_exporter": "python",
   "pygments_lexer": "ipython3",
   "version": "3.8.12"
  }
 },
 "nbformat": 4,
 "nbformat_minor": 5
}
